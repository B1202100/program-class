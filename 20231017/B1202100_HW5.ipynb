{
  "nbformat": 4,
  "nbformat_minor": 0,
  "metadata": {
    "colab": {
      "provenance": []
    },
    "kernelspec": {
      "name": "python3",
      "display_name": "Python 3"
    },
    "language_info": {
      "name": "python"
    }
  },
  "cells": [
    {
      "cell_type": "code",
      "execution_count": null,
      "metadata": {
        "colab": {
          "base_uri": "https://localhost:8080/"
        },
        "id": "zEa8CJiRyoz-",
        "outputId": "41aa0808-2d4e-4715-f224-0e2e90fb1a48"
      },
      "outputs": [
        {
          "output_type": "stream",
          "name": "stdout",
          "text": [
            "         *         \n",
            "        ***        \n",
            "       *****       \n",
            "      *******      \n",
            "     *********     \n",
            "    ***********    \n",
            "   *************   \n",
            "  ***************  \n",
            " ***************** \n",
            "        ***         \n",
            "        ***         \n",
            "        ***         \n",
            "        ***         \n",
            "        ***         \n"
          ]
        }
      ],
      "source": [
        "for a in range(0,17,2):\n",
        "  d = (a+1)*\"*\"\n",
        "  c = f' { d : ^17s} '\n",
        "  print(c)\n",
        "e = \"***\"\n",
        "for f in range(5) :\n",
        "  print(f'{e:^20s}')"
      ]
    },
    {
      "cell_type": "code",
      "source": [
        "import random\n",
        "answer = random.sample(range(1, 10), 4)\n",
        "print(\"答案:\", answer)\n",
        "a = b = n = num = 0\n",
        "while a!=4:\n",
        "  a = b = n = 0\n",
        "  user = input('輸入四個數字(不會重複):')\n",
        "  userint = user\n",
        "  user = list(user)\n",
        "  while len(user) > 4:\n",
        "    user = input(\"輸入字數過多，請輸入四個數字(不會重複)\")\n",
        "    userint = user\n",
        "    user = list(user)\n",
        "  for i in user:\n",
        "    if int(user[n]) == answer[n]:\n",
        "      a += 1\n",
        "    else:\n",
        "      if int(i) in answer:\n",
        "        b += 1\n",
        "    n += 1\n",
        "  a = str(a)\n",
        "  b = str(b)\n",
        "  out = a+\"A\"+b+\"B\"\n",
        "  print( f'{userint}',\":\", out)\n",
        "  a = int(a)\n",
        "  b = int(b)\n",
        "  num += 1\n",
        "print(f'答對了!總共猜了{num}次')\n",
        "\n"
      ],
      "metadata": {
        "colab": {
          "base_uri": "https://localhost:8080/"
        },
        "id": "46QsNNX08Div",
        "outputId": "50289203-447c-42b1-ad56-07c94f412787"
      },
      "execution_count": null,
      "outputs": [
        {
          "output_type": "stream",
          "name": "stdout",
          "text": [
            "答案: [5, 9, 4, 1]\n",
            "輸入四個數字(不會重複):52014\n",
            "輸入字數過多，請輸入四個數字(不會重複)520447\n",
            "輸入字數過多，請輸入四個數字(不會重複)52014\n",
            "輸入字數過多，請輸入四個數字(不會重複)1234\n",
            "1234 : 0A2B\n",
            "輸入四個數字(不會重複):1236\n",
            "1236 : 0A1B\n",
            "輸入四個數字(不會重複):1238\n",
            "1238 : 0A1B\n",
            "輸入四個數字(不會重複):1237\n",
            "1237 : 0A1B\n",
            "輸入四個數字(不會重複):1238\n",
            "1238 : 0A1B\n",
            "輸入四個數字(不會重複):1239\n",
            "1239 : 0A2B\n",
            "輸入四個數字(不會重複):9541\n",
            "9541 : 2A2B\n",
            "輸入四個數字(不會重複):5941\n",
            "5941 : 4A0B\n",
            "答對了!總共猜了8次\n"
          ]
        }
      ]
    }
  ]
}