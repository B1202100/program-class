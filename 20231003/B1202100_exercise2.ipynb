{
  "nbformat": 4,
  "nbformat_minor": 0,
  "metadata": {
    "colab": {
      "provenance": []
    },
    "kernelspec": {
      "name": "python3",
      "display_name": "Python 3"
    },
    "language_info": {
      "name": "python"
    }
  },
  "cells": [
    {
      "cell_type": "code",
      "execution_count": null,
      "metadata": {
        "colab": {
          "base_uri": "https://localhost:8080/"
        },
        "id": "pRrGN3V2SvHK",
        "outputId": "ce9a7611-6963-49da-8673-6bb53ccd1a36"
      },
      "outputs": [
        {
          "output_type": "stream",
          "name": "stdout",
          "text": [
            "A\n",
            "['K', 'H', 'U']\n"
          ]
        }
      ],
      "source": [
        "a = 'C,B,A'\n",
        "b = ['F','G','H']\n",
        "c = a.split(\",\")\n",
        "d = c + b\n",
        "d[0] = \"K\"\n",
        "e = d.pop(2)\n",
        "print(e)\n",
        "del d[1:4]\n",
        "d.append(\"U\")\n",
        "print(d)"
      ]
    },
    {
      "cell_type": "code",
      "source": [
        "l = float(input(\"身高(m):\"))\n",
        "m = float(input(\"體重(kg):\"))\n",
        "m /= l**2\n",
        "print(\"BMI:\",m)\n",
        "if m < 18.5 :\n",
        "  print(\"體位:過輕\")\n",
        "elif 18.5 <= m and m < 24 :\n",
        "  print(\"體位:適中\")\n",
        "elif 24 <= m and m < 27 :\n",
        "  print(\"體位:過重\")\n",
        "else:\n",
        "  print(\"體位:肥胖\")"
      ],
      "metadata": {
        "colab": {
          "base_uri": "https://localhost:8080/"
        },
        "id": "pd6ChPWciz43",
        "outputId": "26d958b0-374d-46c7-a32c-00d9795f359f"
      },
      "execution_count": null,
      "outputs": [
        {
          "output_type": "stream",
          "name": "stdout",
          "text": [
            "身高(m):1.8\n",
            "體重(kg):67\n",
            "BMI: 20.679012345679013\n",
            "體位:適中\n"
          ]
        }
      ]
    }
  ]
}