{
  "nbformat": 4,
  "nbformat_minor": 0,
  "metadata": {
    "colab": {
      "provenance": []
    },
    "kernelspec": {
      "name": "python3",
      "display_name": "Python 3"
    },
    "language_info": {
      "name": "python"
    }
  },
  "cells": [
    {
      "cell_type": "code",
      "source": [
        "a = (input(\"成績:\"))\n",
        "A = a.split(\" \")\n",
        "A[0] = float(A[0])\n",
        "A[1] = float(A[1])\n",
        "A[2] = float(A[2])\n",
        "A[3] = float(A[3])\n",
        "A[4] = float(A[4])\n",
        "\n",
        "A.sort()\n",
        "\n",
        "del A[0]\n",
        "del A[len(A)-1]\n",
        "b = (A[0]+A[1]+A[2])/3\n",
        "print(b)"
      ],
      "metadata": {
        "colab": {
          "base_uri": "https://localhost:8080/"
        },
        "id": "IzeeRfLJ6ZfZ",
        "outputId": "3d0e2c34-e35d-4c37-aa12-b506ba1aa6ee"
      },
      "execution_count": null,
      "outputs": [
        {
          "output_type": "stream",
          "name": "stdout",
          "text": [
            "成績:100 90 95 80 10\n",
            "88.33333333333333\n"
          ]
        }
      ]
    },
    {
      "cell_type": "code",
      "source": [
        "a = str(input(\"兩個數字，一個運算符號\"))\n",
        "b = a.split()\n",
        "b[0] = float(b[0])\n",
        "b[2] = float(b[2])\n",
        "if b[1] == \"+\" :\n",
        "  c = b[0]+b[2]\n",
        "elif b[1] == \"-\" :\n",
        "  c = b[0]-b[2]\n",
        "elif b[1] == \"*\" :\n",
        "  c = b[0]*b[2]\n",
        "elif b[1] == \"/\" :\n",
        "  c = b[0]/b[2]\n",
        "print(c)\n"
      ],
      "metadata": {
        "colab": {
          "base_uri": "https://localhost:8080/"
        },
        "id": "JJpSYCdJ6Zpq",
        "outputId": "5bffe7ce-fc78-4e49-e33f-0372b23b30cc"
      },
      "execution_count": null,
      "outputs": [
        {
          "output_type": "stream",
          "name": "stdout",
          "text": [
            "兩個數字，一個運算符號6 / 2\n",
            "3.0\n"
          ]
        }
      ]
    },
    {
      "cell_type": "code",
      "source": [
        "a = float(input(\"年分\"))\n",
        "b = a % 4\n",
        "c = a % 100\n",
        "d = a % 400\n",
        "if a <= 1582 :\n",
        "  if b == 0 :\n",
        "    print( \"閏年\" )\n",
        "  else:\n",
        "    print( \"平年\" )\n",
        "else:\n",
        "  if b == 0 and c != 0:\n",
        "    print( \"閏年\" )\n",
        "  elif d == 0:\n",
        "    print( \"閏年\" )\n",
        "  else:\n",
        "    print( \"平年\" )\n"
      ],
      "metadata": {
        "colab": {
          "base_uri": "https://localhost:8080/"
        },
        "id": "jLIwGpqA6Hu8",
        "outputId": "a6f65df2-90ad-4987-f447-54ce14258a08"
      },
      "execution_count": null,
      "outputs": [
        {
          "output_type": "stream",
          "name": "stdout",
          "text": [
            "年分1504\n",
            "閏年\n"
          ]
        }
      ]
    }
  ]
}