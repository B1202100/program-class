{
  "nbformat": 4,
  "nbformat_minor": 0,
  "metadata": {
    "colab": {
      "provenance": []
    },
    "kernelspec": {
      "name": "python3",
      "display_name": "Python 3"
    },
    "language_info": {
      "name": "python"
    }
  },
  "cells": [
    {
      "cell_type": "code",
      "execution_count": 17,
      "metadata": {
        "id": "JNLnf8s1wRHY",
        "colab": {
          "base_uri": "https://localhost:8080/"
        },
        "outputId": "570ec2d2-c6ab-47be-cb28-52ff20eb13af"
      },
      "outputs": [
        {
          "output_type": "stream",
          "name": "stdout",
          "text": [
            "聖誕樹高度:10\n",
            "           \n",
            "          *\n",
            "         ***\n",
            "        *****\n",
            "       *******\n",
            "      *********\n",
            "     ***********\n",
            "    *************\n",
            "   ***************\n",
            "  *****************\n",
            " *******************\n",
            "         ***\n",
            "         ***\n",
            "         ***\n",
            "         ***\n",
            "         ***\n"
          ]
        }
      ],
      "source": [
        "h = int(input(\"聖誕樹高度:\"))\n",
        "h += 1\n",
        "w = 2*h-1\n",
        "def tree():\n",
        "  for a in range(h):\n",
        "    print((h-a)*\" \" + (2*a-1)*\"*\")\n",
        "\n",
        "  for b in range(5):\n",
        "    print((h-2)*\" \"+\"***\")\n",
        "tree()"
      ]
    },
    {
      "cell_type": "code",
      "source": [
        "try:\n",
        "  def BMI() :\n",
        "    h = float(input(\"身高(公分):\"))\n",
        "    w = float(input(\"體重:\"))\n",
        "    m = w / ((h/100)**2)\n",
        "    if m < 18.5 :\n",
        "      b = \"體位:過輕\"\n",
        "    elif 18.5 <= m and m < 24 :\n",
        "      b = \"體位:適中\"\n",
        "    elif 24 <= m and m < 27 :\n",
        "      b = \"體位:過重\"\n",
        "    else:\n",
        "      b = \"體位:肥胖\"\n",
        "    m = f\"BMI:{m}\\n{b}\"\n",
        "    return m\n",
        "  m = BMI()\n",
        "  print(m)\n",
        "except:\n",
        "  print(\"輸入內容有誤\")"
      ],
      "metadata": {
        "colab": {
          "base_uri": "https://localhost:8080/"
        },
        "id": "Cpg2wAvjDWNj",
        "outputId": "db698566-77e5-482d-f45e-350886c789a4"
      },
      "execution_count": 23,
      "outputs": [
        {
          "output_type": "stream",
          "name": "stdout",
          "text": [
            "身高(公分):180\n",
            "體重:90\n",
            "BMI:27.777777777777775\n",
            "體位:肥胖\n"
          ]
        }
      ]
    }
  ]
}