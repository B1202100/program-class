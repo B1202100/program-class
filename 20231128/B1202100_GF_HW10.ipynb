{
  "nbformat": 4,
  "nbformat_minor": 0,
  "metadata": {
    "colab": {
      "provenance": []
    },
    "kernelspec": {
      "name": "python3",
      "display_name": "Python 3"
    },
    "language_info": {
      "name": "python"
    }
  },
  "cells": [
    {
      "cell_type": "markdown",
      "source": [
        "外掛操作"
      ],
      "metadata": {
        "id": "GGydpyAmjXNo"
      }
    },
    {
      "cell_type": "code",
      "execution_count": null,
      "metadata": {
        "colab": {
          "base_uri": "https://localhost:8080/"
        },
        "id": "AFpMlJDOi8Jk",
        "outputId": "25b33186-1ec7-47e0-e49a-f3d09c9887c9"
      },
      "outputs": [
        {
          "output_type": "stream",
          "name": "stdout",
          "text": [
            "2.1.0+cu118\n"
          ]
        }
      ],
      "source": [
        "import torch\n",
        "print(torch.__version__)"
      ]
    },
    {
      "cell_type": "code",
      "source": [
        "!pwd #看目前的指定位置\n",
        "!ls  #看指定位置裡的資料"
      ],
      "metadata": {
        "colab": {
          "base_uri": "https://localhost:8080/"
        },
        "id": "eRpX7s-QjADP",
        "outputId": "913ca704-b9b8-463a-8de3-082528ff7cb4"
      },
      "execution_count": null,
      "outputs": [
        {
          "output_type": "stream",
          "name": "stdout",
          "text": [
            "/content\n",
            "sample_data\n"
          ]
        }
      ]
    },
    {
      "cell_type": "code",
      "source": [
        "#from google.colab import drive #掛載到雲端硬碟\n",
        "#drive.mount('/content/gdrive')"
      ],
      "metadata": {
        "id": "Uc35HHnejDHn"
      },
      "execution_count": null,
      "outputs": []
    },
    {
      "cell_type": "code",
      "source": [
        "#import os  #位置指定到資料夾\n",
        "#project_path='/content/gdrive/My Drive/test_ver.1'\n",
        "#os.chdir(project_path)"
      ],
      "metadata": {
        "id": "GpI8s3iajL6B"
      },
      "execution_count": null,
      "outputs": []
    },
    {
      "cell_type": "markdown",
      "source": [
        "使用Cifar-10做影像分類"
      ],
      "metadata": {
        "id": "gWZZXmpOjSro"
      }
    },
    {
      "cell_type": "code",
      "source": [
        "import torch\n",
        "import torchvision\n",
        "import torchvision.transforms as transforms"
      ],
      "metadata": {
        "id": "Us93jjnDjM0t"
      },
      "execution_count": null,
      "outputs": []
    },
    {
      "cell_type": "markdown",
      "source": [
        "影像預處理"
      ],
      "metadata": {
        "id": "lXz7ItAEjzSL"
      }
    },
    {
      "cell_type": "code",
      "source": [
        "transform = transforms.Compose(\n",
        "    [transforms.ToTensor(),\n",
        "     transforms.Normalize((0.5, 0.5, 0.5), (0.5, 0.5, 0.5))])\n",
        "\n",
        "batch_size = 1  #將batch_size從4改為1\n",
        "\n",
        "trainset = torchvision.datasets.CIFAR10(root='./data', train=True, download=True, transform=transform)\n",
        "trainloader = torch.utils.data.DataLoader(trainset, batch_size=batch_size, shuffle=True, num_workers=2)\n",
        "\n",
        "testset = torchvision.datasets.CIFAR10(root='./data', train=False, download=True, transform=transform)\n",
        "testloader = torch.utils.data.DataLoader(testset, batch_size=batch_size, shuffle=False, num_workers=2)\n",
        "\n",
        "classes = ('plane', 'car', 'bird', 'cat',\n",
        "       'deer', 'dog', 'frog', 'horse', 'ship', 'truck')"
      ],
      "metadata": {
        "colab": {
          "base_uri": "https://localhost:8080/"
        },
        "id": "eQzJkQE_jdRj",
        "outputId": "ad467fe8-9c6a-4946-8b85-2c1314ff74ff"
      },
      "execution_count": null,
      "outputs": [
        {
          "output_type": "stream",
          "name": "stdout",
          "text": [
            "Downloading https://www.cs.toronto.edu/~kriz/cifar-10-python.tar.gz to ./data/cifar-10-python.tar.gz\n"
          ]
        },
        {
          "output_type": "stream",
          "name": "stderr",
          "text": [
            "100%|██████████| 170498071/170498071 [00:04<00:00, 38112587.92it/s]\n"
          ]
        },
        {
          "output_type": "stream",
          "name": "stdout",
          "text": [
            "Extracting ./data/cifar-10-python.tar.gz to ./data\n",
            "Files already downloaded and verified\n"
          ]
        }
      ]
    },
    {
      "cell_type": "markdown",
      "source": [
        "Show Images"
      ],
      "metadata": {
        "id": "URLFxrcRkOvt"
      }
    },
    {
      "cell_type": "code",
      "source": [
        "import matplotlib.pyplot as plt\n",
        "import numpy as np\n",
        "\n",
        "# functions to show an image\n",
        "def imshow(img):\n",
        "    img = img / 2 + 0.5     # unnormalize\n",
        "    npimg = img.numpy()\n",
        "    plt.imshow(np.transpose(npimg, (1, 2, 0)))\n",
        "    plt.show()\n",
        "\n",
        "\n",
        "# get some random training images\n",
        "dataiter = iter(trainloader)\n",
        "images, labels = next(dataiter)\n",
        "\n",
        "# show images\n",
        "imshow(torchvision.utils.make_grid(images))\n",
        "\n",
        "# print labels\n",
        "print(' '.join(f'{classes[labels[j]]:5s}' for j in range(batch_size)))"
      ],
      "metadata": {
        "colab": {
          "base_uri": "https://localhost:8080/",
          "height": 447
        },
        "id": "YRJAIdyvkKX7",
        "outputId": "c6b78ea7-14ee-45ad-877c-f8b53ca21ee5"
      },
      "execution_count": null,
      "outputs": [
        {
          "output_type": "display_data",
          "data": {
            "text/plain": [
              "<Figure size 640x480 with 1 Axes>"
            ],
            "image/png": "[encoded data removed]"
          },
          "metadata": {}
        },
        {
          "output_type": "stream",
          "name": "stdout",
          "text": [
            "cat  \n"
          ]
        }
      ]
    },
    {
      "cell_type": "markdown",
      "source": [
        "定義卷積類神經網路 (一個簡單的LeNet模型)"
      ],
      "metadata": {
        "id": "zfxfDen4klDa"
      }
    },
    {
      "cell_type": "code",
      "source": [
        "import torch.nn as nn\n",
        "import torch.nn.functional as F\n",
        "\n",
        "\n",
        "class Net(nn.Module):\n",
        "    def __init__(self):\n",
        "        super().__init__()\n",
        "        self.conv1 = nn.Conv2d(3, 6, 5)\n",
        "        self.pool = nn.MaxPool2d(2, 2)\n",
        "        self.conv2 = nn.Conv2d(6, 16, 5)\n",
        "        self.fc1 = nn.Linear(16 * 5 * 5, 120)\n",
        "        self.fc2 = nn.Linear(120, 84)\n",
        "        self.fc3 = nn.Linear(84, 10)\n",
        "\n",
        "    def forward(self, x):\n",
        "        x = self.pool(F.relu(self.conv1(x)))\n",
        "        x = self.pool(F.relu(self.conv2(x)))\n",
        "        x = torch.flatten(x, 1) # flatten all dimensions except batch\n",
        "        x = F.relu(self.fc1(x))\n",
        "        x = F.relu(self.fc2(x))\n",
        "        x = self.fc3(x)\n",
        "        return x\n",
        "\n",
        "net = Net()"
      ],
      "metadata": {
        "id": "efxlAvCHkg1C"
      },
      "execution_count": null,
      "outputs": []
    },
    {
      "cell_type": "markdown",
      "source": [
        "設置優化器與損失函數"
      ],
      "metadata": {
        "id": "wwlEU4Cmkxgl"
      }
    },
    {
      "cell_type": "code",
      "source": [
        "import torch.optim as optim\n",
        "\n",
        "criterion = nn.CrossEntropyLoss()\n",
        "optimizer = optim.SGD(net.parameters(), lr=0.001, momentum=0.9)   #2222\n"
      ],
      "metadata": {
        "id": "Q5x8vHlqk6GC"
      },
      "execution_count": null,
      "outputs": []
    },
    {
      "cell_type": "markdown",
      "source": [
        "訓練卷積類神經網路"
      ],
      "metadata": {
        "id": "P5JIlpdOk9aX"
      }
    },
    {
      "cell_type": "code",
      "source": [
        "for epoch in range(2):  # loop over the dataset multiple times\n",
        "\n",
        "    running_loss = 0.0\n",
        "    for i, data in enumerate(trainloader, 0):\n",
        "        # get the inputs; data is a list of [inputs, labels]\n",
        "        inputs, labels = data\n",
        "\n",
        "        # zero the parameter gradients\n",
        "        optimizer.zero_grad()\n",
        "\n",
        "        # forward + backward + optimize\n",
        "        outputs = net(inputs)\n",
        "        loss = criterion(outputs, labels)\n",
        "        loss.backward()\n",
        "        optimizer.step()\n",
        "\n",
        "        # print statistics\n",
        "        running_loss += loss.item()\n",
        "        if i % 2000 == 1999:    # print every 2000 mini-batches\n",
        "            print(f'[{epoch + 1}, {i + 1:5d}] loss: {running_loss / 2000:.3f}')\n",
        "            running_loss = 0.0\n",
        "\n",
        "print('Finished Training')"
      ],
      "metadata": {
        "colab": {
          "base_uri": "https://localhost:8080/"
        },
        "id": "gqn8_XYilFAe",
        "outputId": "edb53b1b-b5ed-4e69-994b-5dd96a8c8cba"
      },
      "execution_count": null,
      "outputs": [
        {
          "output_type": "stream",
          "name": "stdout",
          "text": [
            "[1,  2000] loss: 2.227\n",
            "[1,  4000] loss: 2.034\n",
            "[1,  6000] loss: 1.895\n",
            "[1,  8000] loss: 1.813\n",
            "[1, 10000] loss: 1.750\n",
            "[1, 12000] loss: 1.724\n",
            "[1, 14000] loss: 1.727\n",
            "[1, 16000] loss: 1.697\n",
            "[1, 18000] loss: 1.698\n",
            "[1, 20000] loss: 1.640\n",
            "[1, 22000] loss: 1.601\n",
            "[1, 24000] loss: 1.625\n",
            "[1, 26000] loss: 1.605\n",
            "[1, 28000] loss: 1.615\n",
            "[1, 30000] loss: 1.613\n",
            "[1, 32000] loss: 1.596\n",
            "[1, 34000] loss: 1.587\n",
            "[1, 36000] loss: 1.546\n",
            "[1, 38000] loss: 1.603\n",
            "[1, 40000] loss: 1.534\n",
            "[1, 42000] loss: 1.537\n",
            "[1, 44000] loss: 1.577\n",
            "[1, 46000] loss: 1.552\n",
            "[1, 48000] loss: 1.610\n",
            "[1, 50000] loss: 1.565\n",
            "[2,  2000] loss: 1.501\n",
            "[2,  4000] loss: 1.514\n",
            "[2,  6000] loss: 1.538\n",
            "[2,  8000] loss: 1.541\n",
            "[2, 10000] loss: 1.510\n",
            "[2, 12000] loss: 1.484\n",
            "[2, 14000] loss: 1.506\n",
            "[2, 16000] loss: 1.461\n",
            "[2, 18000] loss: 1.492\n",
            "[2, 20000] loss: 1.477\n",
            "[2, 22000] loss: 1.538\n",
            "[2, 24000] loss: 1.474\n",
            "[2, 26000] loss: 1.498\n",
            "[2, 28000] loss: 1.511\n",
            "[2, 30000] loss: 1.507\n",
            "[2, 32000] loss: 1.545\n",
            "[2, 34000] loss: 1.469\n",
            "[2, 36000] loss: 1.491\n",
            "[2, 38000] loss: 1.539\n",
            "[2, 40000] loss: 1.539\n",
            "[2, 42000] loss: 1.513\n",
            "[2, 44000] loss: 1.500\n",
            "[2, 46000] loss: 1.483\n",
            "[2, 48000] loss: 1.499\n",
            "[2, 50000] loss: 1.494\n",
            "Finished Training\n"
          ]
        }
      ]
    },
    {
      "cell_type": "markdown",
      "source": [
        "保存已訓練好的模型"
      ],
      "metadata": {
        "id": "T8h6IOc_lH-m"
      }
    },
    {
      "cell_type": "code",
      "source": [
        "PATH = './cifar_net.pth'\n",
        "torch.save(net.state_dict(), PATH)"
      ],
      "metadata": {
        "id": "-I2S6AktlTle"
      },
      "execution_count": null,
      "outputs": []
    },
    {
      "cell_type": "markdown",
      "source": [
        "進行測試"
      ],
      "metadata": {
        "id": "3aF_jipilUsv"
      }
    },
    {
      "cell_type": "code",
      "source": [
        "dataiter = iter(testloader)\n",
        "images, labels = next(dataiter)\n",
        "\n",
        "# print images\n",
        "imshow(torchvision.utils.make_grid(images))\n",
        "print('GroundTruth: ', ' '.join(f'{classes[labels[j]]:5s}' for j in range(1)))\n"
      ],
      "metadata": {
        "colab": {
          "base_uri": "https://localhost:8080/",
          "height": 447
        },
        "id": "1SN8m_UjlYkn",
        "outputId": "591062f1-7f33-493b-d8ed-8ddb8f7b6a11"
      },
      "execution_count": null,
      "outputs": [
        {
          "output_type": "display_data",
          "data": {
            "text/plain": [
              "<Figure size 640x480 with 1 Axes>"
            ],
            "image/png": "[encoded data removed]"
          },
          "metadata": {}
        },
        {
          "output_type": "stream",
          "name": "stdout",
          "text": [
            "GroundTruth:  cat  \n"
          ]
        }
      ]
    },
    {
      "cell_type": "code",
      "source": [
        "#net = Net()\n",
        "#net.load_state_dict(torch.load(PATH))"
      ],
      "metadata": {
        "id": "K2FdfhIOlelI"
      },
      "execution_count": null,
      "outputs": []
    },
    {
      "cell_type": "code",
      "source": [
        "outputs = net(images)"
      ],
      "metadata": {
        "id": "qzKHBowylf90"
      },
      "execution_count": null,
      "outputs": []
    },
    {
      "cell_type": "code",
      "source": [
        "_, predicted = torch.max(outputs, 1)\n",
        "\n",
        "print('Predicted: ', ' '.join(f'{classes[predicted[j]]:5s}'\n",
        "                              for j in range(1)))"
      ],
      "metadata": {
        "colab": {
          "base_uri": "https://localhost:8080/"
        },
        "id": "i68e6OyyliQ6",
        "outputId": "ac563f37-5838-4ffb-be4d-b463ba821af4"
      },
      "execution_count": null,
      "outputs": [
        {
          "output_type": "stream",
          "name": "stdout",
          "text": [
            "Predicted:  ship \n"
          ]
        }
      ]
    },
    {
      "cell_type": "code",
      "source": [
        "correct = 0\n",
        "total = 0\n",
        "# since we're not training, we don't need to calculate the gradients for our outputs\n",
        "with torch.no_grad():\n",
        "    for data in testloader:\n",
        "        images, labels = data\n",
        "        # calculate outputs by running images through the network\n",
        "        outputs = net(images)\n",
        "        # the class with the highest energy is what we choose as prediction\n",
        "        _, predicted = torch.max(outputs.data, 1)\n",
        "        total += labels.size(0)\n",
        "        correct += (predicted == labels).sum().item()\n",
        "\n",
        "print(f'Accuracy of the network on the 10000 test images: {100 * correct // total} %')"
      ],
      "metadata": {
        "colab": {
          "base_uri": "https://localhost:8080/"
        },
        "id": "YL8_EbzKlmcJ",
        "outputId": "2080a50e-62a3-45f1-e272-2ee72295b3df"
      },
      "execution_count": 34,
      "outputs": [
        {
          "output_type": "stream",
          "name": "stdout",
          "text": [
            "Accuracy of the network on the 10000 test images: 49 %\n"
          ]
        }
      ]
    },
    {
      "cell_type": "code",
      "source": [],
      "metadata": {
        "id": "eomktVgrlqKT"
      },
      "execution_count": null,
      "outputs": []
    }
  ]
}